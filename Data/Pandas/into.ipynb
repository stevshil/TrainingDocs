{
 "cells": [
  {
   "cell_type": "markdown",
   "metadata": {},
   "source": [
    "# Pandas play\n",
    "\n",
    "Load the pandas library.\n",
    "\n",
    "Import constituents.csv data into our notebook, setting the **Symbol** column as the index."
   ]
  },
  {
   "cell_type": "code",
   "execution_count": null,
   "metadata": {},
   "outputs": [],
   "source": [
    "import pandas as pd\n",
    "df = pd.read_csv(\"Data/constituents.csv\",index_col=\"Symbol\")"
   ]
  },
  {
   "cell_type": "markdown",
   "metadata": {},
   "source": [
    "Show the top rows from the dataframe, so we can see what the data looks like"
   ]
  },
  {
   "cell_type": "code",
   "execution_count": null,
   "metadata": {},
   "outputs": [],
   "source": [
    "df.head()"
   ]
  },
  {
   "cell_type": "markdown",
   "metadata": {},
   "source": [
    "Show the top 5 Symbol and names."
   ]
  },
  {
   "cell_type": "code",
   "execution_count": null,
   "metadata": {},
   "outputs": [],
   "source": [
    "df[\"Name\"].head()"
   ]
  },
  {
   "cell_type": "code",
   "execution_count": null,
   "metadata": {},
   "outputs": [],
   "source": [
    "print(df[\"Name\"].head())\n",
    "# Print is redundant in Juptyer notebooks"
   ]
  },
  {
   "cell_type": "markdown",
   "metadata": {},
   "source": [
    "Show the following 4 columns"
   ]
  },
  {
   "cell_type": "code",
   "execution_count": null,
   "metadata": {},
   "outputs": [],
   "source": [
    "df[ [\"Name\", \"HQ\", \"Founded\", \"Price\"] ]"
   ]
  },
  {
   "cell_type": "code",
   "execution_count": null,
   "metadata": {},
   "outputs": [],
   "source": [
    "df.loc[\"ZBH\"]"
   ]
  },
  {
   "cell_type": "code",
   "execution_count": null,
   "metadata": {},
   "outputs": [],
   "source": [
    "df.loc[ [\"ZBH\",\"MMM\"] ]"
   ]
  },
  {
   "cell_type": "code",
   "execution_count": null,
   "metadata": {},
   "outputs": [],
   "source": [
    "df.loc[\"Health Care\"] # Nope, only on the index - more later\n",
    "df[df[\"Sector\"] == \"Health Care\"]"
   ]
  },
  {
   "cell_type": "code",
   "execution_count": null,
   "metadata": {},
   "outputs": [],
   "source": [
    "# Mean, max, min, etc\n",
    "df[ [\"Price\",\"52 Week High\", \"52 Week Low\"] ].mean()"
   ]
  },
  {
   "cell_type": "code",
   "execution_count": null,
   "metadata": {},
   "outputs": [],
   "source": [
    "df.dtypes # Show table column data types"
   ]
  },
  {
   "cell_type": "markdown",
   "metadata": {},
   "source": [
    "# Numpy is a high speed array library - great for matrix operations"
   ]
  },
  {
   "cell_type": "code",
   "execution_count": null,
   "metadata": {},
   "outputs": [],
   "source": [
    "import numpy as np"
   ]
  },
  {
   "cell_type": "code",
   "execution_count": null,
   "metadata": {},
   "outputs": [],
   "source": [
    "nump1 = np.array([\n",
    "    [1,2,3,4,5],\n",
    "    [10,20,30,40,50]\n",
    "    ])\n",
    "nump2 = np.array([\n",
    "    [10,20,30,40,50],\n",
    "    [100,200,300,400,500]\n",
    "    ])"
   ]
  },
  {
   "cell_type": "code",
   "execution_count": null,
   "metadata": {},
   "outputs": [],
   "source": [
    "numpsum = nump1 * nump2\n",
    "numpsum"
   ]
  },
  {
   "cell_type": "code",
   "execution_count": null,
   "metadata": {},
   "outputs": [],
   "source": [
    "%%timeit\n",
    "l1 = [1,2,3,4,5]\n",
    "l2 = [10,20,30,40,50]\n",
    "l3 = l1 + l2\n",
    "l3"
   ]
  },
  {
   "cell_type": "code",
   "execution_count": null,
   "metadata": {},
   "outputs": [],
   "source": [
    "%%timeit\n",
    "l1 = np.array([1,2,3,4,5])\n",
    "l2 = np.array([10,20,30,40,50])\n",
    "l3 = np.concatenate([l1,l2])\n",
    "l3"
   ]
  },
  {
   "cell_type": "code",
   "execution_count": null,
   "metadata": {},
   "outputs": [],
   "source": [
    "%%timeit\n",
    "l1 = np.array([1,2,3,4,5])\n",
    "l2 = np.array([10,20,30,40,50])\n",
    "l3 = list(l1)+list(l2)\n",
    "l3"
   ]
  },
  {
   "cell_type": "code",
   "execution_count": null,
   "metadata": {},
   "outputs": [],
   "source": [
    "l1 = np.array([1,2,3,4,5])\n",
    "l2 = np.array([10,20,30,40,50])\n",
    "l1 > l2"
   ]
  },
  {
   "cell_type": "code",
   "execution_count": null,
   "metadata": {},
   "outputs": [],
   "source": [
    "l1 < l2"
   ]
  },
  {
   "cell_type": "code",
   "execution_count": null,
   "metadata": {},
   "outputs": [],
   "source": [
    "(l2 - l1) == 27"
   ]
  },
  {
   "cell_type": "code",
   "execution_count": null,
   "metadata": {},
   "outputs": [],
   "source": [
    "l1 = np.array([1,2,3,4,5])\n",
    "np.logical_or(  (l1 % 2) == 0, (l2 % 20) == 0 )"
   ]
  },
  {
   "cell_type": "code",
   "execution_count": null,
   "metadata": {},
   "outputs": [],
   "source": [
    "x = np.where( (l1 % 2) == 0, l1+1, l1-1)\n",
    "x"
   ]
  },
  {
   "cell_type": "code",
   "execution_count": null,
   "metadata": {},
   "outputs": [],
   "source": [
    "x = np.where(df['Price'] < 100, 'Cheap', 'Expensive')\n",
    "x"
   ]
  },
  {
   "cell_type": "code",
   "execution_count": null,
   "metadata": {},
   "outputs": [],
   "source": [
    "\n",
    "# Create a new dataframe\n",
    "smalldf = df[ [\"Name\",\"Sector\",\"Price\"] ].copy()\n",
    "smalldf.head()"
   ]
  },
  {
   "cell_type": "code",
   "execution_count": null,
   "metadata": {},
   "outputs": [],
   "source": [
    "# Add a new column\n",
    "# df[\"avgprice\"] = df[df['Sector'] == 'Industrials'][\"Price\"]\n",
    "# smalldf[smalldf['Sector'] == 'Industrials'][\"Price\"]\n",
    "smalldf[\"avgprice\"] = smalldf[smalldf['Sector'] == 'Industrials'][\"Price\"]\n",
    "smalldf.head()\n",
    "# df[df['Sector'] == 'Industrials']"
   ]
  },
  {
   "cell_type": "code",
   "execution_count": null,
   "metadata": {},
   "outputs": [],
   "source": [
    "# newdfsmall = smalldf.reset_index()\n",
    "newdfsmall[newdfsmall[\"Symbol\"] == \"ABT\"].index.values[0]\n",
    "a=newdfsmall.iloc[newdfsmall[newdfsmall[\"Symbol\"] == \"ABT\"].index]\n",
    "b=newdfsmall.iloc[newdfsmall[newdfsmall[\"Symbol\"] == \"ACN\"].index]\n",
    "newdfsmall.iloc[a.index.values[0] : b.index.values[0]+1]"
   ]
  },
  {
   "cell_type": "markdown",
   "metadata": {},
   "source": [
    "# Matplot fancy charts\n",
    "\n",
    "Take from https://matplotlib.org/stable/gallery/lines_bars_and_markers/gradient_bar.html\n",
    "\n",
    "The main graphs page is https://matplotlib.org/stable/gallery/index.html"
   ]
  },
  {
   "cell_type": "code",
   "execution_count": null,
   "metadata": {},
   "outputs": [],
   "source": [
    "import matplotlib.pyplot as plt\n",
    "%matplotlib inline\n",
    "\n",
    "np.random.seed(19680801)\n",
    "\n",
    "\n",
    "def gradient_image(ax, direction=0.3, cmap_range=(0, 1), **kwargs):\n",
    "    \"\"\"\n",
    "    Draw a gradient image based on a colormap.\n",
    "\n",
    "    Parameters\n",
    "    ----------\n",
    "    ax : Axes\n",
    "        The Axes to draw on.\n",
    "    direction : float\n",
    "        The direction of the gradient. This is a number in\n",
    "        range 0 (=vertical) to 1 (=horizontal).\n",
    "    cmap_range : float, float\n",
    "        The fraction (cmin, cmax) of the colormap that should be\n",
    "        used for the gradient, where the complete colormap is (0, 1).\n",
    "    **kwargs\n",
    "        Other parameters are passed on to `.Axes.imshow()`.\n",
    "        In particular, *cmap*, *extent*, and *transform* may be useful.\n",
    "    \"\"\"\n",
    "    phi = direction * np.pi / 2\n",
    "    v = np.array([np.cos(phi), np.sin(phi)])\n",
    "    X = np.array([[v @ [1, 0], v @ [1, 1]],\n",
    "                  [v @ [0, 0], v @ [0, 1]]])\n",
    "    a, b = cmap_range\n",
    "    X = a + (b - a) / X.max() * X\n",
    "    im = ax.imshow(X, interpolation='bicubic', clim=(0, 1),\n",
    "                   aspect='auto', **kwargs)\n",
    "    return im\n",
    "\n",
    "\n",
    "def gradient_bar(ax, x, y, width=0.5, bottom=0):\n",
    "    for left, top in zip(x, y):\n",
    "        right = left + width\n",
    "        gradient_image(ax, extent=(left, right, bottom, top),\n",
    "                       cmap=plt.cm.Blues_r, cmap_range=(0, 0.8))\n",
    "\n",
    "\n",
    "fig, ax = plt.subplots()\n",
    "ax.set(xlim=(0, 10), ylim=(0, 1))\n",
    "\n",
    "# background image\n",
    "gradient_image(ax, direction=1, extent=(0, 1, 0, 1), transform=ax.transAxes,\n",
    "               cmap=plt.cm.RdYlGn, cmap_range=(0.2, 0.8), alpha=0.5)\n",
    "\n",
    "N = 10\n",
    "x = np.arange(N) + 0.15\n",
    "y = np.random.rand(N)\n",
    "gradient_bar(ax, x, y, width=0.7)\n",
    "plt.show()"
   ]
  },
  {
   "cell_type": "code",
   "execution_count": null,
   "metadata": {},
   "outputs": [],
   "source": [
    "import matplotlib.pyplot as plt\n",
    "import numpy as np\n",
    "\n",
    "from matplotlib import cbook, cm\n",
    "from matplotlib.colors import LightSource\n",
    "\n",
    "# Load and format data\n",
    "dem = cbook.get_sample_data('jacksboro_fault_dem.npz')\n",
    "z = dem['elevation']\n",
    "nrows, ncols = z.shape\n",
    "x = np.linspace(dem['xmin'], dem['xmax'], ncols)\n",
    "y = np.linspace(dem['ymin'], dem['ymax'], nrows)\n",
    "x, y = np.meshgrid(x, y)\n",
    "\n",
    "region = np.s_[5:50, 5:50]\n",
    "x, y, z = x[region], y[region], z[region]\n",
    "\n",
    "# Set up plot\n",
    "fig, ax = plt.subplots(subplot_kw=dict(projection='3d'))\n",
    "\n",
    "ls = LightSource(270, 45)\n",
    "# To use a custom hillshading mode, override the built-in shading and pass\n",
    "# in the rgb colors of the shaded surface calculated from \"shade\".\n",
    "rgb = ls.shade(z, cmap=cm.gist_earth, vert_exag=0.1, blend_mode='soft')\n",
    "surf = ax.plot_surface(x, y, z, rstride=1, cstride=1, facecolors=rgb,\n",
    "                       linewidth=0, antialiased=True, shade=False)\n",
    "\n",
    "plt.show()"
   ]
  }
 ],
 "metadata": {
  "kernelspec": {
   "display_name": "base",
   "language": "python",
   "name": "python3"
  },
  "language_info": {
   "codemirror_mode": {
    "name": "ipython",
    "version": 3
   },
   "file_extension": ".py",
   "mimetype": "text/x-python",
   "name": "python",
   "nbconvert_exporter": "python",
   "pygments_lexer": "ipython3",
   "version": "3.13.5"
  }
 },
 "nbformat": 4,
 "nbformat_minor": 2
}
